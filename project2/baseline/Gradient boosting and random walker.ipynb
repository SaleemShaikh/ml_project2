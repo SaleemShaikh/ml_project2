{
 "cells": [
  {
   "cell_type": "code",
   "execution_count": 1,
   "metadata": {
    "collapsed": false
   },
   "outputs": [],
   "source": [
    "import numpy as np\n",
    "import os,sys\n",
    "from PIL import Image\n",
    "import re\n",
    "import matplotlib.image as mpimg\n",
    "\n",
    "from time import time\n",
    "from  sklearn.ensemble import GradientBoostingRegressor\n",
    "import mask_to_submission\n"
   ]
  },
  {
   "cell_type": "markdown",
   "metadata": {},
   "source": [
    "# Please indicate the path to the data"
   ]
  },
  {
   "cell_type": "code",
   "execution_count": 2,
   "metadata": {
    "collapsed": true
   },
   "outputs": [],
   "source": [
    "path_to_data = \"\""
   ]
  },
  {
   "cell_type": "code",
   "execution_count": 3,
   "metadata": {
    "collapsed": false
   },
   "outputs": [
    {
     "name": "stdout",
     "output_type": "stream",
     "text": [
      "Loading 100 images\n",
      "Loading 100 images\n"
     ]
    }
   ],
   "source": [
    "# Loaded a set of images\n",
    "root_dir = path_to_data + \"training/\"\n",
    "\n",
    "image_dir = root_dir + \"images/\"\n",
    "files = os.listdir(image_dir)[1:]\n",
    "n = len(files)\n",
    "print(\"Loading \" + str(n) + \" images\")\n",
    "imgs = np.array([mpimg.imread(image_dir + files[i]) for i in range(n)])\n",
    "\n",
    "gt_dir = root_dir + \"groundtruth/\"\n",
    "print(\"Loading \" + str(n) + \" images\")\n",
    "gt_imgs = np.array([mpimg.imread(gt_dir + files[i]) for i in range(n)])"
   ]
  },
  {
   "cell_type": "markdown",
   "metadata": {},
   "source": [
    "# Gradient boosting regression"
   ]
  },
  {
   "cell_type": "code",
   "execution_count": 4,
   "metadata": {
    "collapsed": false,
    "scrolled": true
   },
   "outputs": [
    {
     "name": "stdout",
     "output_type": "stream",
     "text": [
      "17.124311924\n"
     ]
    }
   ],
   "source": [
    "x_train = np.array(imgs)\n",
    "y_train = np.array(gt_imgs)\n",
    "\n",
    "\n",
    "st = time()\n",
    "\n",
    "model = GradientBoostingRegressor(n_estimators=500)\n",
    "model.fit(x_train.reshape(-1,3),y_train.reshape(-1))\n",
    "\n",
    "print time() - st"
   ]
  },
  {
   "cell_type": "markdown",
   "metadata": {},
   "source": [
    "# Testset's importation"
   ]
  },
  {
   "cell_type": "code",
   "execution_count": 5,
   "metadata": {
    "collapsed": false
   },
   "outputs": [
    {
     "name": "stdout",
     "output_type": "stream",
     "text": [
      "Loading 51 images\n"
     ]
    }
   ],
   "source": [
    "root_dir = path_to_data + \"test_set_images/\"\n",
    "\n",
    "n = 51\n",
    "print(\"Loading \" + str(n) + \" images\")\n",
    "imgs = np.array([mpimg.imread(root_dir + \"test_\"+str(i)+\"/\" + \"test_\"+str(i)+\".png\") for i in range(1,n)])"
   ]
  },
  {
   "cell_type": "markdown",
   "metadata": {},
   "source": [
    "# classification prediction"
   ]
  },
  {
   "cell_type": "code",
   "execution_count": 6,
   "metadata": {
    "collapsed": true
   },
   "outputs": [],
   "source": [
    "pred_test = model.predict(imgs.reshape(-1, 3))\n",
    "pred_test = pred_test.reshape(imgs.shape[:-1])"
   ]
  },
  {
   "cell_type": "markdown",
   "metadata": {},
   "source": [
    "# Segmentation with radom_walker"
   ]
  },
  {
   "cell_type": "code",
   "execution_count": 7,
   "metadata": {
    "collapsed": true
   },
   "outputs": [],
   "source": [
    "from skimage.segmentation import random_walker\n",
    "from sklearn.metrics import f1_score\n",
    "def pred_random_walker(reg, thr_non_road, thr_road, beta):\n",
    "    '''\n",
    "    Process random walker algorithm for every images.\n",
    "    \n",
    "    reg: np.ndarray(number of image, number of row,  number of column)\n",
    "    thr_road: minimum value for being consider as a road\n",
    "    thr_non_road: minimum value for being consider as a non-road\n",
    "    beta: random walker's penalization\n",
    "    '''\n",
    "    segmentation = np.zeros_like(reg)\n",
    "    for i in range(len(reg)):\n",
    "        data = reg[i]\n",
    "        \n",
    "        markers=np.zeros_like(data)\n",
    "        markers[data<thr_non_road] = 1\n",
    "        markers[data>thr_road] = 2\n",
    "        segmentation[i] = random_walker(data, markers, beta=beta, mode='bf')\n",
    "    \n",
    "    segmentation = segmentation -1\n",
    "    return segmentation"
   ]
  },
  {
   "cell_type": "code",
   "execution_count": 14,
   "metadata": {
    "collapsed": false
   },
   "outputs": [],
   "source": [
    "image_shape = imgs.shape[:-1]\n",
    "segmentations = pred_random_walker(pred_test.reshape(image_shape), 0.05, 0.5, beta=500)"
   ]
  },
  {
   "cell_type": "markdown",
   "metadata": {},
   "source": [
    "# Write the segmentations from the random walker algorithm in files."
   ]
  },
  {
   "cell_type": "code",
   "execution_count": 15,
   "metadata": {
    "collapsed": true
   },
   "outputs": [],
   "source": [
    "# creation of the test masks folder if not exist\n",
    "try:\n",
    "    os.stat(path_to_data + 'test_set_masks')\n",
    "except:\n",
    "    os.mkdir(path_to_data + 'test_set_masks')       \n"
   ]
  },
  {
   "cell_type": "code",
   "execution_count": 16,
   "metadata": {
    "collapsed": true
   },
   "outputs": [],
   "source": [
    "import scipy.misc\n",
    "def write_segmentation( segmentations):\n",
    "    for i in range(1, len(segmentations)+1):\n",
    "        filename =  path_to_data + 'test_set_masks/satImage_' + '%.3d' % i + '.png'\n",
    "        scipy.misc.imsave(filename, segmentations[i-1])"
   ]
  },
  {
   "cell_type": "code",
   "execution_count": 17,
   "metadata": {
    "collapsed": true
   },
   "outputs": [],
   "source": [
    "write_segmentation( segmentations)"
   ]
  },
  {
   "cell_type": "markdown",
   "metadata": {},
   "source": [
    "# make the submission file"
   ]
  },
  {
   "cell_type": "code",
   "execution_count": 18,
   "metadata": {
    "collapsed": false
   },
   "outputs": [],
   "source": [
    "submission_filename = 'baseline_submission.csv'\n",
    "image_filenames = []\n",
    "\n",
    "for i in range(1, 51):\n",
    "    image_filename = path_to_data + 'test_set_masks/satImage_' + '%.3d' % i + '.png'\n",
    "    image_filenames.append(image_filename)\n",
    "mask_to_submission.masks_to_submission(submission_filename, *image_filenames)"
   ]
  }
 ],
 "metadata": {
  "kernelspec": {
   "display_name": "Python 2",
   "language": "python",
   "name": "python2"
  },
  "language_info": {
   "codemirror_mode": {
    "name": "ipython",
    "version": 2
   },
   "file_extension": ".py",
   "mimetype": "text/x-python",
   "name": "python",
   "nbconvert_exporter": "python",
   "pygments_lexer": "ipython2",
   "version": "2.7.11"
  }
 },
 "nbformat": 4,
 "nbformat_minor": 0
}
